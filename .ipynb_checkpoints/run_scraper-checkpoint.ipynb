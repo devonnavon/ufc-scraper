{
 "cells": [
  {
   "cell_type": "code",
   "execution_count": 3,
   "metadata": {},
   "outputs": [],
   "source": [
    "import requests\n",
    "from bs4 import BeautifulSoup\n",
    "import json\n",
    "import os\n",
    "from pathlib import Path\n",
    "\n",
    "import scraper"
   ]
  },
  {
   "cell_type": "code",
   "execution_count": 4,
   "metadata": {},
   "outputs": [],
   "source": [
    "ALL_EVENTS_URL = 'http://ufcstats.com/statistics/events/completed?page=all'\n",
    "BASE_PATH = Path(os.getcwd())/'data'\n",
    "EVENTS = BASE_PATH/'events.json'\n",
    "FIGHTS = BASE_PATH/'fights.json'"
   ]
  },
  {
   "cell_type": "code",
   "execution_count": 7,
   "metadata": {},
   "outputs": [
    {
     "data": {
      "text/plain": [
       "PosixPath('/Users/devonnavon/Code/projects/ufc-scraper/data/events.json')"
      ]
     },
     "execution_count": 7,
     "metadata": {},
     "output_type": "execute_result"
    }
   ],
   "source": [
    "def get_events():\n",
    "links = [] \n",
    "soup = make_soup(all_events_url)\n",
    "for link in soup.findAll('td',{'class': 'b-statistics__table-col'}):\n",
    "    for href in link.findAll('a'):\n",
    "        foo = href.get('href')\n",
    "        links.append(foo)"
   ]
  },
  {
   "cell_type": "code",
   "execution_count": null,
   "metadata": {},
   "outputs": [],
   "source": []
  }
 ],
 "metadata": {
  "kernelspec": {
   "display_name": "Python 3",
   "language": "python",
   "name": "python3"
  },
  "language_info": {
   "codemirror_mode": {
    "name": "ipython",
    "version": 3
   },
   "file_extension": ".py",
   "mimetype": "text/x-python",
   "name": "python",
   "nbconvert_exporter": "python",
   "pygments_lexer": "ipython3",
   "version": "3.7.4"
  }
 },
 "nbformat": 4,
 "nbformat_minor": 4
}
