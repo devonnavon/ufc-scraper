{
 "cells": [
  {
   "cell_type": "code",
   "execution_count": 1,
   "metadata": {},
   "outputs": [],
   "source": [
    "import pandas as pd\n",
    "\n",
    "import scraper\n",
    "from scraper import events, fights, fighters"
   ]
  },
  {
   "cell_type": "code",
   "execution_count": 2,
   "metadata": {},
   "outputs": [],
   "source": [
    "from importlib import reload\n",
    "reload(scraper)\n",
    "reload(fighters)\n",
    "print('', end='')"
   ]
  },
  {
   "cell_type": "code",
   "execution_count": 3,
   "metadata": {},
   "outputs": [
    {
     "name": "stdout",
     "output_type": "stream",
     "text": [
      "CPU times: user 239 ms, sys: 8.69 ms, total: 248 ms\n",
      "Wall time: 5.3 s\n"
     ]
    }
   ],
   "source": [
    "%%time\n",
    "event_ids = events.load_events() #load events returns new event_ids that were loaded"
   ]
  },
  {
   "cell_type": "code",
   "execution_count": 4,
   "metadata": {},
   "outputs": [
    {
     "name": "stdout",
     "output_type": "stream",
     "text": [
      "Scraping all fight data: \n",
      "Progress: |█████████████████████████████---------------------| 58.09% Complete"
     ]
    },
    {
     "name": "stderr",
     "output_type": "stream",
     "text": [
      "Exception in thread Thread-6030:\n",
      "Traceback (most recent call last):\n",
      "  File \"/Users/devonnavon/Code/projects/ufc-scraper/scraper/fights.py\", line 115, in get_fight_info\n",
      "    fight_stats = get_fight_stats(fight_soup) #err\n",
      "  File \"/Users/devonnavon/Code/projects/ufc-scraper/scraper/fights.py\", line 130, in get_fight_stats\n",
      "    total_fight_data = [tables[0],tables[2]] ##err\n",
      "IndexError: list index out of range\n",
      "\n",
      "During handling of the above exception, another exception occurred:\n",
      "\n",
      "Traceback (most recent call last):\n",
      "  File \"/Users/devonnavon/anaconda3/lib/python3.7/threading.py\", line 926, in _bootstrap_inner\n",
      "    self.run()\n",
      "  File \"/Users/devonnavon/anaconda3/lib/python3.7/threading.py\", line 870, in run\n",
      "    self._target(*self._args, **self._kwargs)\n",
      "  File \"/Users/devonnavon/Code/projects/ufc-scraper/scraper/fights.py\", line 72, in put_fight_info\n",
      "    fight_info = get_fight_info(fight_id)\n",
      "  File \"/Users/devonnavon/Code/projects/ufc-scraper/scraper/fights.py\", line 119, in get_fight_info\n",
      "    'err':fight_soup.find('h2').text #code will break if theres no h2 (doubtful though)\n",
      "AttributeError: 'NoneType' object has no attribute 'text'\n",
      "\n"
     ]
    },
    {
     "name": "stdout",
     "output_type": "stream",
     "text": [
      "Progress: |██████████████████████████████████████████████████| 100.00% Complete\n",
      "5473  fights loaded into  /Users/devonnavon/Code/projects/ufc-scraper/data/fights.json\n",
      "CPU times: user 3min 58s, sys: 6.53 s, total: 4min 5s\n",
      "Wall time: 3h 54min 53s\n"
     ]
    }
   ],
   "source": [
    "%%time\n",
    "fights.load_fights(event_ids)"
   ]
  },
  {
   "cell_type": "code",
   "execution_count": 5,
   "metadata": {},
   "outputs": [
    {
     "name": "stdout",
     "output_type": "stream",
     "text": [
      "Scraping all fight data: \n",
      "Progress: |██████████████████████████████████████████████████| 100.00% Complete\n",
      "CPU times: user 1min 30s, sys: 5.27 s, total: 1min 36s\n",
      "Wall time: 35min 13s\n"
     ]
    }
   ],
   "source": [
    "%%time\n",
    "fighters.load_fighters()"
   ]
  },
  {
   "cell_type": "code",
   "execution_count": null,
   "metadata": {},
   "outputs": [],
   "source": []
  }
 ],
 "metadata": {
  "kernelspec": {
   "display_name": "Python 3",
   "language": "python",
   "name": "python3"
  },
  "language_info": {
   "codemirror_mode": {
    "name": "ipython",
    "version": 3
   },
   "file_extension": ".py",
   "mimetype": "text/x-python",
   "name": "python",
   "nbconvert_exporter": "python",
   "pygments_lexer": "ipython3",
   "version": "3.7.4"
  }
 },
 "nbformat": 4,
 "nbformat_minor": 4
}
