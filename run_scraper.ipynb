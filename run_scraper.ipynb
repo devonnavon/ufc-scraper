{
 "cells": [
  {
   "cell_type": "code",
   "execution_count": 7,
   "metadata": {},
   "outputs": [],
   "source": [
    "import requests\n",
    "from bs4 import BeautifulSoup\n",
    "import json\n",
    "import os\n",
    "from pathlib import Path\n",
    "import datetime\n",
    "\n",
    "import scraper\n",
    "from scraper import events, fights"
   ]
  },
  {
   "cell_type": "code",
   "execution_count": 45,
   "metadata": {},
   "outputs": [],
   "source": [
    "from importlib import reload\n",
    "reload(scraper)\n",
    "reload(events)\n",
    "reload(fights)\n",
    "print('', end='')"
   ]
  },
  {
   "cell_type": "code",
   "execution_count": 42,
   "metadata": {},
   "outputs": [],
   "source": [
    "EVENTS_URL = 'http://ufcstats.com/statistics/events/completed?page=all'\n",
    "FIGHT_URL = 'http://ufcstats.com/event-details/{fight_id}'\n",
    "\n",
    "BASE_PATH = Path(os.getcwd())/'data'\n",
    "EVENTS_PATH = BASE_PATH/'events.json'\n",
    "FIGHTS_PATH = BASE_PATH/'fights.json'"
   ]
  },
  {
   "cell_type": "code",
   "execution_count": 15,
   "metadata": {},
   "outputs": [],
   "source": [
    "event_ids = events.load_events()"
   ]
  },
  {
   "cell_type": "code",
   "execution_count": 14,
   "metadata": {},
   "outputs": [],
   "source": [
    "ids = ['53278852bcd91e11', 'aa3153a9941b4d44', 'cd42bbe8887bba90', '1c3f5e85b59ec710']"
   ]
  },
  {
   "cell_type": "code",
   "execution_count": 30,
   "metadata": {},
   "outputs": [],
   "source": [
    "event = fights.get_fight_ids(ids[0])"
   ]
  },
  {
   "cell_type": "code",
   "execution_count": 40,
   "metadata": {},
   "outputs": [
    {
     "data": {
      "text/plain": [
       "['e8219ea7da46f67f',\n",
       " '8a85dffa80e6c7bd',\n",
       " 'f5b49f4c5a27e53b',\n",
       " '671f42536454e541',\n",
       " 'eba6055d217d5b99',\n",
       " '0e3af9b5e1b3ae80',\n",
       " 'd9a218ac3e148541',\n",
       " 'e30b9829e42aa4ca',\n",
       " '9d2f7d29bb9c9034',\n",
       " '59861c3d19eb46ef',\n",
       " '0bcb04163f8d8ead',\n",
       " '533d0b5c0adfa15f']"
      ]
     },
     "execution_count": 40,
     "metadata": {},
     "output_type": "execute_result"
    }
   ],
   "source": [
    "event['fc9a9559a05f2704']"
   ]
  },
  {
   "cell_type": "code",
   "execution_count": 51,
   "metadata": {},
   "outputs": [],
   "source": [
    "fight_stats = fights.get_fight_info('e8219ea7da46f67f')"
   ]
  },
  {
   "cell_type": "code",
   "execution_count": 63,
   "metadata": {},
   "outputs": [],
   "source": [
    "FIGHT_HEADER = '''r_fighter;b_fighter;r_kd;b_kd;r_sig_str.;b_sig_str.;r_sig_str_pct;b_sig_str_pct;\n",
    "r_total_str.;b_total_str.;r_td;b_td;r_td_pct;b_td_pct;r_sub_att;b_sub_att;r_pass;b_pass;r_rev;b_rev;\n",
    "r_head;b_head;r_body;b_body;r_leg;b_leg;r_distance;b_distance;r_clinch;b_clinch;r_ground;b_ground;\n",
    "win_by;last_round;last_round_time;format;referee;fight_type;winner'''"
   ]
  },
  {
   "cell_type": "code",
   "execution_count": 64,
   "metadata": {},
   "outputs": [
    {
     "data": {
      "text/plain": [
       "{'r_fighter': 'Joseph Benavidez',\n",
       " 'b_fighter': 'Deiveson Figueiredo',\n",
       " 'r_kd': '0',\n",
       " 'b_kd': '1',\n",
       " 'r_sig_str.': '46 of 94',\n",
       " 'b_sig_str.': '25 of 49',\n",
       " 'r_sig_str_pct': '48%',\n",
       " 'b_sig_str_pct': '51%',\n",
       " '\\nr_total_str.': '46 of 94',\n",
       " 'b_total_str.': '25 of 49',\n",
       " 'r_td': '0 of 2',\n",
       " 'b_td': '1 of 1',\n",
       " 'r_td_pct': '0%',\n",
       " 'b_td_pct': '100%',\n",
       " 'r_sub_att': '0',\n",
       " 'b_sub_att': '1',\n",
       " 'r_pass': '0',\n",
       " 'b_pass': '0',\n",
       " 'r_rev': '0',\n",
       " 'b_rev': '0',\n",
       " '\\nr_head': '28 of 63',\n",
       " 'b_head': '18 of 39',\n",
       " 'r_body': '8 of 13',\n",
       " 'b_body': '7 of 10',\n",
       " 'r_leg': '10 of 18',\n",
       " 'b_leg': '0 of 0',\n",
       " 'r_distance': '36 of 78',\n",
       " 'b_distance': '20 of 44',\n",
       " 'r_clinch': '10 of 16',\n",
       " 'b_clinch': '2 of 2',\n",
       " 'r_ground': '0 of 0',\n",
       " 'b_ground': '3 of 3',\n",
       " '\\nwin_by': 'KO/TKO',\n",
       " 'last_round': '2',\n",
       " 'last_round_time': '1:54',\n",
       " 'format': '5 Rnd (5-5-5-5-5)',\n",
       " 'referee': 'Dan Miragliotta',\n",
       " 'fight_type': 'UFC Flyweight Title Bout',\n",
       " 'winner': 'Deiveson Figueiredo'}"
      ]
     },
     "execution_count": 64,
     "metadata": {},
     "output_type": "execute_result"
    }
   ],
   "source": [
    "dict(zip(FIGHT_HEADER.split(';'), fight_stats.split(';')))"
   ]
  },
  {
   "cell_type": "code",
   "execution_count": 58,
   "metadata": {},
   "outputs": [],
   "source": [
    "id_thing = {'xx':'yy'}\n",
    "id_thing.update(dict(zip(FIGHT_HEADER.split(';'), fight_stats.split(';'))))"
   ]
  },
  {
   "cell_type": "code",
   "execution_count": 62,
   "metadata": {},
   "outputs": [
    {
     "data": {
      "text/plain": [
       "'r_fighter;b_fighter;r_kd;b_kd;r_sig_str.;b_sig_str.;r_sig_str_pct;b_sig_str_pct;r_total_str.;b_total_str.;r_td;b_td;r_td_pct;b_td_pct;r_sub_att;b_sub_att;r_pass;b_pass;r_rev;b_rev;r_head;b_head;r_body;b_body;r_leg;b_leg;r_distance;b_distance;r_clinch;b_clinch;r_ground;b_ground;win_by;last_round;last_round_time;format;referee;fight_type;winner'"
      ]
     },
     "execution_count": 62,
     "metadata": {},
     "output_type": "execute_result"
    }
   ],
   "source": [
    "FIGHT_HEADER"
   ]
  },
  {
   "cell_type": "code",
   "execution_count": null,
   "metadata": {},
   "outputs": [],
   "source": []
  }
 ],
 "metadata": {
  "kernelspec": {
   "display_name": "Python 3",
   "language": "python",
   "name": "python3"
  },
  "language_info": {
   "codemirror_mode": {
    "name": "ipython",
    "version": 3
   },
   "file_extension": ".py",
   "mimetype": "text/x-python",
   "name": "python",
   "nbconvert_exporter": "python",
   "pygments_lexer": "ipython3",
   "version": "3.7.4"
  }
 },
 "nbformat": 4,
 "nbformat_minor": 4
}
